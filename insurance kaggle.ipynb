{
 "cells": [
  {
   "cell_type": "code",
   "execution_count": 1,
   "id": "7ca635e1",
   "metadata": {},
   "outputs": [],
   "source": [
    "import pandas as pd"
   ]
  },
  {
   "cell_type": "code",
   "execution_count": 2,
   "id": "8f8493ec",
   "metadata": {},
   "outputs": [],
   "source": [
    "df=pd.read_csv(\"D:\\\\data science\\\\data sets\\\\New folder\\\\insurance kaggle.csv\")"
   ]
  },
  {
   "cell_type": "code",
   "execution_count": 3,
   "id": "d4610f79",
   "metadata": {},
   "outputs": [
    {
     "data": {
      "text/html": [
       "<div>\n",
       "<style scoped>\n",
       "    .dataframe tbody tr th:only-of-type {\n",
       "        vertical-align: middle;\n",
       "    }\n",
       "\n",
       "    .dataframe tbody tr th {\n",
       "        vertical-align: top;\n",
       "    }\n",
       "\n",
       "    .dataframe thead th {\n",
       "        text-align: right;\n",
       "    }\n",
       "</style>\n",
       "<table border=\"1\" class=\"dataframe\">\n",
       "  <thead>\n",
       "    <tr style=\"text-align: right;\">\n",
       "      <th></th>\n",
       "      <th>age</th>\n",
       "      <th>sex</th>\n",
       "      <th>bmi</th>\n",
       "      <th>children</th>\n",
       "      <th>smoker</th>\n",
       "      <th>region</th>\n",
       "      <th>charges</th>\n",
       "    </tr>\n",
       "  </thead>\n",
       "  <tbody>\n",
       "    <tr>\n",
       "      <th>0</th>\n",
       "      <td>19</td>\n",
       "      <td>female</td>\n",
       "      <td>27.900</td>\n",
       "      <td>0</td>\n",
       "      <td>yes</td>\n",
       "      <td>southwest</td>\n",
       "      <td>16884.92400</td>\n",
       "    </tr>\n",
       "    <tr>\n",
       "      <th>1</th>\n",
       "      <td>18</td>\n",
       "      <td>male</td>\n",
       "      <td>33.770</td>\n",
       "      <td>1</td>\n",
       "      <td>no</td>\n",
       "      <td>southeast</td>\n",
       "      <td>1725.55230</td>\n",
       "    </tr>\n",
       "    <tr>\n",
       "      <th>2</th>\n",
       "      <td>28</td>\n",
       "      <td>male</td>\n",
       "      <td>33.000</td>\n",
       "      <td>3</td>\n",
       "      <td>no</td>\n",
       "      <td>southeast</td>\n",
       "      <td>4449.46200</td>\n",
       "    </tr>\n",
       "    <tr>\n",
       "      <th>3</th>\n",
       "      <td>33</td>\n",
       "      <td>male</td>\n",
       "      <td>22.705</td>\n",
       "      <td>0</td>\n",
       "      <td>no</td>\n",
       "      <td>northwest</td>\n",
       "      <td>21984.47061</td>\n",
       "    </tr>\n",
       "    <tr>\n",
       "      <th>4</th>\n",
       "      <td>32</td>\n",
       "      <td>male</td>\n",
       "      <td>28.880</td>\n",
       "      <td>0</td>\n",
       "      <td>no</td>\n",
       "      <td>northwest</td>\n",
       "      <td>3866.85520</td>\n",
       "    </tr>\n",
       "  </tbody>\n",
       "</table>\n",
       "</div>"
      ],
      "text/plain": [
       "   age     sex     bmi  children smoker     region      charges\n",
       "0   19  female  27.900         0    yes  southwest  16884.92400\n",
       "1   18    male  33.770         1     no  southeast   1725.55230\n",
       "2   28    male  33.000         3     no  southeast   4449.46200\n",
       "3   33    male  22.705         0     no  northwest  21984.47061\n",
       "4   32    male  28.880         0     no  northwest   3866.85520"
      ]
     },
     "execution_count": 3,
     "metadata": {},
     "output_type": "execute_result"
    }
   ],
   "source": [
    "df.head()"
   ]
  },
  {
   "cell_type": "code",
   "execution_count": 4,
   "id": "d00c8c23",
   "metadata": {},
   "outputs": [
    {
     "name": "stdout",
     "output_type": "stream",
     "text": [
      "<class 'pandas.core.frame.DataFrame'>\n",
      "RangeIndex: 1338 entries, 0 to 1337\n",
      "Data columns (total 7 columns):\n",
      " #   Column    Non-Null Count  Dtype  \n",
      "---  ------    --------------  -----  \n",
      " 0   age       1338 non-null   int64  \n",
      " 1   sex       1338 non-null   object \n",
      " 2   bmi       1338 non-null   float64\n",
      " 3   children  1338 non-null   int64  \n",
      " 4   smoker    1338 non-null   object \n",
      " 5   region    1338 non-null   object \n",
      " 6   charges   1338 non-null   float64\n",
      "dtypes: float64(2), int64(2), object(3)\n",
      "memory usage: 73.3+ KB\n"
     ]
    }
   ],
   "source": [
    "df.info()"
   ]
  },
  {
   "cell_type": "code",
   "execution_count": 5,
   "id": "870db965",
   "metadata": {},
   "outputs": [
    {
     "data": {
      "text/plain": [
       "age         0\n",
       "sex         0\n",
       "bmi         0\n",
       "children    0\n",
       "smoker      0\n",
       "region      0\n",
       "charges     0\n",
       "dtype: int64"
      ]
     },
     "execution_count": 5,
     "metadata": {},
     "output_type": "execute_result"
    }
   ],
   "source": [
    "df.isnull().sum()"
   ]
  },
  {
   "cell_type": "markdown",
   "id": "41552fd9",
   "metadata": {},
   "source": [
    "### Exploratotary Data Analysis"
   ]
  },
  {
   "cell_type": "code",
   "execution_count": 6,
   "id": "5def40e7",
   "metadata": {},
   "outputs": [
    {
     "data": {
      "text/plain": [
       "1"
      ]
     },
     "execution_count": 6,
     "metadata": {},
     "output_type": "execute_result"
    }
   ],
   "source": [
    "df.duplicated().sum()"
   ]
  },
  {
   "cell_type": "code",
   "execution_count": 7,
   "id": "e186fc19",
   "metadata": {},
   "outputs": [],
   "source": [
    "df=df.drop_duplicates()"
   ]
  },
  {
   "cell_type": "code",
   "execution_count": 8,
   "id": "3013f923",
   "metadata": {},
   "outputs": [
    {
     "data": {
      "text/plain": [
       "39.222139117427076"
      ]
     },
     "execution_count": 8,
     "metadata": {},
     "output_type": "execute_result"
    }
   ],
   "source": [
    "df[\"age\"].mean()"
   ]
  },
  {
   "cell_type": "code",
   "execution_count": 9,
   "id": "064e0846",
   "metadata": {},
   "outputs": [
    {
     "data": {
      "text/plain": [
       "array(['female', 'male'], dtype=object)"
      ]
     },
     "execution_count": 9,
     "metadata": {},
     "output_type": "execute_result"
    }
   ],
   "source": [
    "df[\"sex\"].unique()"
   ]
  },
  {
   "cell_type": "code",
   "execution_count": 10,
   "id": "a65c1db6",
   "metadata": {},
   "outputs": [
    {
     "data": {
      "text/plain": [
       "18"
      ]
     },
     "execution_count": 10,
     "metadata": {},
     "output_type": "execute_result"
    }
   ],
   "source": [
    "df[\"age\"].min()"
   ]
  },
  {
   "cell_type": "code",
   "execution_count": 11,
   "id": "6a581e57",
   "metadata": {},
   "outputs": [
    {
     "data": {
      "text/plain": [
       "64"
      ]
     },
     "execution_count": 11,
     "metadata": {},
     "output_type": "execute_result"
    }
   ],
   "source": [
    "df[\"age\"].max()"
   ]
  },
  {
   "cell_type": "code",
   "execution_count": 12,
   "id": "7d5dbe3d",
   "metadata": {},
   "outputs": [
    {
     "data": {
      "text/plain": [
       "count    1337.000000\n",
       "mean       39.222139\n",
       "std        14.044333\n",
       "min        18.000000\n",
       "25%        27.000000\n",
       "50%        39.000000\n",
       "75%        51.000000\n",
       "max        64.000000\n",
       "Name: age, dtype: float64"
      ]
     },
     "execution_count": 12,
     "metadata": {},
     "output_type": "execute_result"
    }
   ],
   "source": [
    "df[\"age\"].describe()"
   ]
  },
  {
   "cell_type": "code",
   "execution_count": 13,
   "id": "920be0f0",
   "metadata": {},
   "outputs": [],
   "source": [
    "import matplotlib.pyplot as plt"
   ]
  },
  {
   "cell_type": "code",
   "execution_count": 14,
   "id": "7c002ea1",
   "metadata": {},
   "outputs": [
    {
     "data": {
      "image/png": "[encoded data removed]",
      "text/plain": [
       "<Figure size 640x480 with 1 Axes>"
      ]
     },
     "metadata": {},
     "output_type": "display_data"
    }
   ],
   "source": [
    "plt.boxplot(df[\"age\"])\n",
    "plt.show()"
   ]
  },
  {
   "cell_type": "code",
   "execution_count": 15,
   "id": "626f6b29",
   "metadata": {},
   "outputs": [
    {
     "data": {
      "text/plain": [
       "18    69\n",
       "19    67\n",
       "50    29\n",
       "51    29\n",
       "47    29\n",
       "46    29\n",
       "45    29\n",
       "20    29\n",
       "48    29\n",
       "52    29\n",
       "22    28\n",
       "49    28\n",
       "54    28\n",
       "53    28\n",
       "21    28\n",
       "26    28\n",
       "24    28\n",
       "25    28\n",
       "28    28\n",
       "27    28\n",
       "23    28\n",
       "43    27\n",
       "29    27\n",
       "30    27\n",
       "41    27\n",
       "42    27\n",
       "44    27\n",
       "31    27\n",
       "40    27\n",
       "32    26\n",
       "33    26\n",
       "56    26\n",
       "34    26\n",
       "55    26\n",
       "57    26\n",
       "37    25\n",
       "59    25\n",
       "58    25\n",
       "36    25\n",
       "38    25\n",
       "35    25\n",
       "39    25\n",
       "61    23\n",
       "60    23\n",
       "63    23\n",
       "62    23\n",
       "64    22\n",
       "Name: age, dtype: int64"
      ]
     },
     "execution_count": 15,
     "metadata": {},
     "output_type": "execute_result"
    }
   ],
   "source": [
    "df[\"age\"].value_counts()"
   ]
  },
  {
   "cell_type": "code",
   "execution_count": 16,
   "id": "133fbe84",
   "metadata": {},
   "outputs": [
    {
     "data": {
      "text/plain": [
       "male      675\n",
       "female    662\n",
       "Name: sex, dtype: int64"
      ]
     },
     "execution_count": 16,
     "metadata": {},
     "output_type": "execute_result"
    }
   ],
   "source": [
    "df[\"sex\"].value_counts()"
   ]
  },
  {
   "cell_type": "code",
   "execution_count": 17,
   "id": "2f8c0ff1",
   "metadata": {},
   "outputs": [
    {
     "data": {
      "text/plain": [
       "30.66345175766642"
      ]
     },
     "execution_count": 17,
     "metadata": {},
     "output_type": "execute_result"
    }
   ],
   "source": [
    "df[\"bmi\"].mean()"
   ]
  },
  {
   "cell_type": "code",
   "execution_count": 18,
   "id": "c3705368",
   "metadata": {},
   "outputs": [
    {
     "name": "stdout",
     "output_type": "stream",
     "text": [
      "<class 'pandas.core.series.Series'>\n",
      "Int64Index: 1337 entries, 0 to 1337\n",
      "Series name: bmi\n",
      "Non-Null Count  Dtype  \n",
      "--------------  -----  \n",
      "1337 non-null   float64\n",
      "dtypes: float64(1)\n",
      "memory usage: 20.9 KB\n"
     ]
    }
   ],
   "source": [
    "df[\"bmi\"].info()"
   ]
  },
  {
   "cell_type": "code",
   "execution_count": 19,
   "id": "be43d6f7",
   "metadata": {},
   "outputs": [
    {
     "data": {
      "text/plain": [
       "count    1337.000000\n",
       "mean       30.663452\n",
       "std         6.100468\n",
       "min        15.960000\n",
       "25%        26.290000\n",
       "50%        30.400000\n",
       "75%        34.700000\n",
       "max        53.130000\n",
       "Name: bmi, dtype: float64"
      ]
     },
     "execution_count": 19,
     "metadata": {},
     "output_type": "execute_result"
    }
   ],
   "source": [
    "df[\"bmi\"].describe()"
   ]
  },
  {
   "cell_type": "code",
   "execution_count": 20,
   "id": "8716148e",
   "metadata": {},
   "outputs": [
    {
     "data": {
      "image/png": "[encoded data removed]",
      "text/plain": [
       "<Figure size 640x480 with 1 Axes>"
      ]
     },
     "metadata": {},
     "output_type": "display_data"
    }
   ],
   "source": [
    "plt.boxplot(df[\"bmi\"])\n",
    "plt.show()"
   ]
  },
  {
   "cell_type": "markdown",
   "id": "9646de7f",
   "metadata": {},
   "source": [
    "- bmi have outliers to treat."
   ]
  },
  {
   "cell_type": "code",
   "execution_count": 21,
   "id": "3b224188",
   "metadata": {},
   "outputs": [
    {
     "data": {
      "text/plain": [
       "0    573\n",
       "1    324\n",
       "2    240\n",
       "3    157\n",
       "4     25\n",
       "5     18\n",
       "Name: children, dtype: int64"
      ]
     },
     "execution_count": 21,
     "metadata": {},
     "output_type": "execute_result"
    }
   ],
   "source": [
    "df[\"children\"].value_counts()"
   ]
  },
  {
   "cell_type": "code",
   "execution_count": 22,
   "id": "488e1949",
   "metadata": {},
   "outputs": [
    {
     "data": {
      "text/plain": [
       "array([0, 1, 3, 2, 5, 4], dtype=int64)"
      ]
     },
     "execution_count": 22,
     "metadata": {},
     "output_type": "execute_result"
    }
   ],
   "source": [
    "df[\"children\"].unique()"
   ]
  },
  {
   "cell_type": "code",
   "execution_count": 23,
   "id": "9a127658",
   "metadata": {},
   "outputs": [
    {
     "data": {
      "text/plain": [
       "0"
      ]
     },
     "execution_count": 23,
     "metadata": {},
     "output_type": "execute_result"
    }
   ],
   "source": [
    "df[\"children\"].isnull().sum()"
   ]
  },
  {
   "cell_type": "code",
   "execution_count": 24,
   "id": "dc6d8186",
   "metadata": {},
   "outputs": [
    {
     "data": {
      "text/html": [
       "<div>\n",
       "<style scoped>\n",
       "    .dataframe tbody tr th:only-of-type {\n",
       "        vertical-align: middle;\n",
       "    }\n",
       "\n",
       "    .dataframe tbody tr th {\n",
       "        vertical-align: top;\n",
       "    }\n",
       "\n",
       "    .dataframe thead th {\n",
       "        text-align: right;\n",
       "    }\n",
       "</style>\n",
       "<table border=\"1\" class=\"dataframe\">\n",
       "  <thead>\n",
       "    <tr style=\"text-align: right;\">\n",
       "      <th>smoker</th>\n",
       "      <th>no</th>\n",
       "      <th>yes</th>\n",
       "    </tr>\n",
       "    <tr>\n",
       "      <th>sex</th>\n",
       "      <th></th>\n",
       "      <th></th>\n",
       "    </tr>\n",
       "  </thead>\n",
       "  <tbody>\n",
       "    <tr>\n",
       "      <th>female</th>\n",
       "      <td>547</td>\n",
       "      <td>115</td>\n",
       "    </tr>\n",
       "    <tr>\n",
       "      <th>male</th>\n",
       "      <td>516</td>\n",
       "      <td>159</td>\n",
       "    </tr>\n",
       "  </tbody>\n",
       "</table>\n",
       "</div>"
      ],
      "text/plain": [
       "smoker   no  yes\n",
       "sex             \n",
       "female  547  115\n",
       "male    516  159"
      ]
     },
     "execution_count": 24,
     "metadata": {},
     "output_type": "execute_result"
    }
   ],
   "source": [
    "pd.crosstab(df[\"sex\"],df[\"smoker\"])"
   ]
  },
  {
   "cell_type": "code",
   "execution_count": 25,
   "id": "0fef2479",
   "metadata": {},
   "outputs": [
    {
     "data": {
      "text/plain": [
       "no     1063\n",
       "yes     274\n",
       "Name: smoker, dtype: int64"
      ]
     },
     "execution_count": 25,
     "metadata": {},
     "output_type": "execute_result"
    }
   ],
   "source": [
    "df[\"smoker\"].value_counts()"
   ]
  },
  {
   "cell_type": "code",
   "execution_count": 26,
   "id": "9f1968c6",
   "metadata": {},
   "outputs": [
    {
     "data": {
      "image/png": "[encoded data removed]",
      "text/plain": [
       "<Figure size 640x480 with 1 Axes>"
      ]
     },
     "metadata": {},
     "output_type": "display_data"
    }
   ],
   "source": [
    "plt.boxplot(x=df[\"charges\"])\n",
    "plt.show()"
   ]
  },
  {
   "cell_type": "code",
   "execution_count": 27,
   "id": "7569c30f",
   "metadata": {},
   "outputs": [
    {
     "data": {
      "text/plain": [
       "southeast    364\n",
       "southwest    325\n",
       "northwest    324\n",
       "northeast    324\n",
       "Name: region, dtype: int64"
      ]
     },
     "execution_count": 27,
     "metadata": {},
     "output_type": "execute_result"
    }
   ],
   "source": [
    "df[\"region\"].value_counts()"
   ]
  },
  {
   "cell_type": "code",
   "execution_count": 28,
   "id": "a1285e5f",
   "metadata": {},
   "outputs": [
    {
     "data": {
      "image/png": "[encoded data removed]",
      "text/plain": [
       "<Figure size 640x480 with 1 Axes>"
      ]
     },
     "metadata": {},
     "output_type": "display_data"
    }
   ],
   "source": [
    "df[\"bmi\"].plot(kind=\"kde\")\n",
    "plt.show()"
   ]
  },
  {
   "cell_type": "code",
   "execution_count": 29,
   "id": "330a65a8",
   "metadata": {},
   "outputs": [
    {
     "data": {
      "text/plain": [
       "0.28391419385321137"
      ]
     },
     "execution_count": 29,
     "metadata": {},
     "output_type": "execute_result"
    }
   ],
   "source": [
    "df[\"bmi\"].skew()"
   ]
  },
  {
   "cell_type": "code",
   "execution_count": 30,
   "id": "ad47fddf",
   "metadata": {},
   "outputs": [
    {
     "data": {
      "text/plain": [
       "0.054780773126998195"
      ]
     },
     "execution_count": 30,
     "metadata": {},
     "output_type": "execute_result"
    }
   ],
   "source": [
    "df[\"age\"].skew()"
   ]
  },
  {
   "cell_type": "code",
   "execution_count": 31,
   "id": "d8c56507",
   "metadata": {},
   "outputs": [
    {
     "data": {
      "text/plain": [
       "southeast    364\n",
       "southwest    325\n",
       "northwest    324\n",
       "northeast    324\n",
       "Name: region, dtype: int64"
      ]
     },
     "execution_count": 31,
     "metadata": {},
     "output_type": "execute_result"
    }
   ],
   "source": [
    "df[\"region\"].value_counts()"
   ]
  },
  {
   "cell_type": "markdown",
   "id": "54505567",
   "metadata": {},
   "source": [
    "#### encoding\n"
   ]
  },
  {
   "cell_type": "code",
   "execution_count": 32,
   "id": "f115b4cc",
   "metadata": {},
   "outputs": [],
   "source": [
    "df[\"sex\"].replace({\"female\":0,\"male\":1},inplace=True)"
   ]
  },
  {
   "cell_type": "code",
   "execution_count": 33,
   "id": "e9b4fa57",
   "metadata": {},
   "outputs": [],
   "source": [
    "df[\"smoker\"].replace({\"no\":0,\"yes\":1},inplace=True)\n",
    "df[\"region\"].replace({\"northeast\":0,\"northwest\":1,\"southeast\":2,\"southwest\":3},inplace=True)"
   ]
  },
  {
   "cell_type": "code",
   "execution_count": 34,
   "id": "9bc465c4",
   "metadata": {},
   "outputs": [],
   "source": [
    "x=df.drop([\"charges\"],axis=1)\n",
    "y=df[\"charges\"]"
   ]
  },
  {
   "cell_type": "code",
   "execution_count": 35,
   "id": "3f99255a",
   "metadata": {},
   "outputs": [],
   "source": [
    "from sklearn.model_selection import train_test_split\n",
    "x_train,x_test,y_train,y_test=train_test_split(x,y,test_size=0.2,random_state=0)"
   ]
  },
  {
   "cell_type": "code",
   "execution_count": 36,
   "id": "5e08060d",
   "metadata": {},
   "outputs": [
    {
     "data": {
      "text/html": [
       "<div>\n",
       "<style scoped>\n",
       "    .dataframe tbody tr th:only-of-type {\n",
       "        vertical-align: middle;\n",
       "    }\n",
       "\n",
       "    .dataframe tbody tr th {\n",
       "        vertical-align: top;\n",
       "    }\n",
       "\n",
       "    .dataframe thead th {\n",
       "        text-align: right;\n",
       "    }\n",
       "</style>\n",
       "<table border=\"1\" class=\"dataframe\">\n",
       "  <thead>\n",
       "    <tr style=\"text-align: right;\">\n",
       "      <th></th>\n",
       "      <th>age</th>\n",
       "      <th>sex</th>\n",
       "      <th>bmi</th>\n",
       "      <th>children</th>\n",
       "      <th>smoker</th>\n",
       "      <th>region</th>\n",
       "    </tr>\n",
       "  </thead>\n",
       "  <tbody>\n",
       "    <tr>\n",
       "      <th>896</th>\n",
       "      <td>43</td>\n",
       "      <td>0</td>\n",
       "      <td>20.045</td>\n",
       "      <td>2</td>\n",
       "      <td>1</td>\n",
       "      <td>0</td>\n",
       "    </tr>\n",
       "    <tr>\n",
       "      <th>194</th>\n",
       "      <td>18</td>\n",
       "      <td>1</td>\n",
       "      <td>34.430</td>\n",
       "      <td>0</td>\n",
       "      <td>0</td>\n",
       "      <td>2</td>\n",
       "    </tr>\n",
       "    <tr>\n",
       "      <th>240</th>\n",
       "      <td>23</td>\n",
       "      <td>0</td>\n",
       "      <td>36.670</td>\n",
       "      <td>2</td>\n",
       "      <td>1</td>\n",
       "      <td>0</td>\n",
       "    </tr>\n",
       "    <tr>\n",
       "      <th>1257</th>\n",
       "      <td>54</td>\n",
       "      <td>0</td>\n",
       "      <td>27.645</td>\n",
       "      <td>1</td>\n",
       "      <td>0</td>\n",
       "      <td>1</td>\n",
       "    </tr>\n",
       "    <tr>\n",
       "      <th>575</th>\n",
       "      <td>58</td>\n",
       "      <td>0</td>\n",
       "      <td>27.170</td>\n",
       "      <td>0</td>\n",
       "      <td>0</td>\n",
       "      <td>1</td>\n",
       "    </tr>\n",
       "    <tr>\n",
       "      <th>...</th>\n",
       "      <td>...</td>\n",
       "      <td>...</td>\n",
       "      <td>...</td>\n",
       "      <td>...</td>\n",
       "      <td>...</td>\n",
       "      <td>...</td>\n",
       "    </tr>\n",
       "    <tr>\n",
       "      <th>764</th>\n",
       "      <td>45</td>\n",
       "      <td>0</td>\n",
       "      <td>25.175</td>\n",
       "      <td>2</td>\n",
       "      <td>0</td>\n",
       "      <td>0</td>\n",
       "    </tr>\n",
       "    <tr>\n",
       "      <th>836</th>\n",
       "      <td>36</td>\n",
       "      <td>1</td>\n",
       "      <td>31.500</td>\n",
       "      <td>0</td>\n",
       "      <td>0</td>\n",
       "      <td>3</td>\n",
       "    </tr>\n",
       "    <tr>\n",
       "      <th>1217</th>\n",
       "      <td>29</td>\n",
       "      <td>1</td>\n",
       "      <td>37.290</td>\n",
       "      <td>2</td>\n",
       "      <td>0</td>\n",
       "      <td>2</td>\n",
       "    </tr>\n",
       "    <tr>\n",
       "      <th>559</th>\n",
       "      <td>19</td>\n",
       "      <td>1</td>\n",
       "      <td>35.530</td>\n",
       "      <td>0</td>\n",
       "      <td>0</td>\n",
       "      <td>1</td>\n",
       "    </tr>\n",
       "    <tr>\n",
       "      <th>685</th>\n",
       "      <td>53</td>\n",
       "      <td>1</td>\n",
       "      <td>26.410</td>\n",
       "      <td>2</td>\n",
       "      <td>0</td>\n",
       "      <td>0</td>\n",
       "    </tr>\n",
       "  </tbody>\n",
       "</table>\n",
       "<p>1069 rows × 6 columns</p>\n",
       "</div>"
      ],
      "text/plain": [
       "      age  sex     bmi  children  smoker  region\n",
       "896    43    0  20.045         2       1       0\n",
       "194    18    1  34.430         0       0       2\n",
       "240    23    0  36.670         2       1       0\n",
       "1257   54    0  27.645         1       0       1\n",
       "575    58    0  27.170         0       0       1\n",
       "...   ...  ...     ...       ...     ...     ...\n",
       "764    45    0  25.175         2       0       0\n",
       "836    36    1  31.500         0       0       3\n",
       "1217   29    1  37.290         2       0       2\n",
       "559    19    1  35.530         0       0       1\n",
       "685    53    1  26.410         2       0       0\n",
       "\n",
       "[1069 rows x 6 columns]"
      ]
     },
     "execution_count": 36,
     "metadata": {},
     "output_type": "execute_result"
    }
   ],
   "source": [
    "x_train"
   ]
  },
  {
   "cell_type": "code",
   "execution_count": 37,
   "id": "1cfc52aa",
   "metadata": {},
   "outputs": [
    {
     "data": {
      "text/html": [
       "<div>\n",
       "<style scoped>\n",
       "    .dataframe tbody tr th:only-of-type {\n",
       "        vertical-align: middle;\n",
       "    }\n",
       "\n",
       "    .dataframe tbody tr th {\n",
       "        vertical-align: top;\n",
       "    }\n",
       "\n",
       "    .dataframe thead th {\n",
       "        text-align: right;\n",
       "    }\n",
       "</style>\n",
       "<table border=\"1\" class=\"dataframe\">\n",
       "  <thead>\n",
       "    <tr style=\"text-align: right;\">\n",
       "      <th></th>\n",
       "      <th>age</th>\n",
       "      <th>sex</th>\n",
       "      <th>bmi</th>\n",
       "      <th>children</th>\n",
       "      <th>smoker</th>\n",
       "      <th>region</th>\n",
       "    </tr>\n",
       "  </thead>\n",
       "  <tbody>\n",
       "    <tr>\n",
       "      <th>1248</th>\n",
       "      <td>18</td>\n",
       "      <td>0</td>\n",
       "      <td>39.820</td>\n",
       "      <td>0</td>\n",
       "      <td>0</td>\n",
       "      <td>2</td>\n",
       "    </tr>\n",
       "    <tr>\n",
       "      <th>610</th>\n",
       "      <td>47</td>\n",
       "      <td>0</td>\n",
       "      <td>29.370</td>\n",
       "      <td>1</td>\n",
       "      <td>0</td>\n",
       "      <td>2</td>\n",
       "    </tr>\n",
       "    <tr>\n",
       "      <th>393</th>\n",
       "      <td>49</td>\n",
       "      <td>1</td>\n",
       "      <td>31.350</td>\n",
       "      <td>1</td>\n",
       "      <td>0</td>\n",
       "      <td>0</td>\n",
       "    </tr>\n",
       "    <tr>\n",
       "      <th>503</th>\n",
       "      <td>19</td>\n",
       "      <td>1</td>\n",
       "      <td>30.250</td>\n",
       "      <td>0</td>\n",
       "      <td>1</td>\n",
       "      <td>2</td>\n",
       "    </tr>\n",
       "    <tr>\n",
       "      <th>198</th>\n",
       "      <td>51</td>\n",
       "      <td>0</td>\n",
       "      <td>18.050</td>\n",
       "      <td>0</td>\n",
       "      <td>0</td>\n",
       "      <td>1</td>\n",
       "    </tr>\n",
       "    <tr>\n",
       "      <th>...</th>\n",
       "      <td>...</td>\n",
       "      <td>...</td>\n",
       "      <td>...</td>\n",
       "      <td>...</td>\n",
       "      <td>...</td>\n",
       "      <td>...</td>\n",
       "    </tr>\n",
       "    <tr>\n",
       "      <th>809</th>\n",
       "      <td>25</td>\n",
       "      <td>1</td>\n",
       "      <td>25.840</td>\n",
       "      <td>1</td>\n",
       "      <td>0</td>\n",
       "      <td>0</td>\n",
       "    </tr>\n",
       "    <tr>\n",
       "      <th>726</th>\n",
       "      <td>41</td>\n",
       "      <td>1</td>\n",
       "      <td>28.405</td>\n",
       "      <td>1</td>\n",
       "      <td>0</td>\n",
       "      <td>1</td>\n",
       "    </tr>\n",
       "    <tr>\n",
       "      <th>938</th>\n",
       "      <td>18</td>\n",
       "      <td>1</td>\n",
       "      <td>26.180</td>\n",
       "      <td>2</td>\n",
       "      <td>0</td>\n",
       "      <td>2</td>\n",
       "    </tr>\n",
       "    <tr>\n",
       "      <th>474</th>\n",
       "      <td>54</td>\n",
       "      <td>1</td>\n",
       "      <td>25.100</td>\n",
       "      <td>3</td>\n",
       "      <td>1</td>\n",
       "      <td>3</td>\n",
       "    </tr>\n",
       "    <tr>\n",
       "      <th>1084</th>\n",
       "      <td>62</td>\n",
       "      <td>0</td>\n",
       "      <td>30.495</td>\n",
       "      <td>2</td>\n",
       "      <td>0</td>\n",
       "      <td>1</td>\n",
       "    </tr>\n",
       "  </tbody>\n",
       "</table>\n",
       "<p>268 rows × 6 columns</p>\n",
       "</div>"
      ],
      "text/plain": [
       "      age  sex     bmi  children  smoker  region\n",
       "1248   18    0  39.820         0       0       2\n",
       "610    47    0  29.370         1       0       2\n",
       "393    49    1  31.350         1       0       0\n",
       "503    19    1  30.250         0       1       2\n",
       "198    51    0  18.050         0       0       1\n",
       "...   ...  ...     ...       ...     ...     ...\n",
       "809    25    1  25.840         1       0       0\n",
       "726    41    1  28.405         1       0       1\n",
       "938    18    1  26.180         2       0       2\n",
       "474    54    1  25.100         3       1       3\n",
       "1084   62    0  30.495         2       0       1\n",
       "\n",
       "[268 rows x 6 columns]"
      ]
     },
     "execution_count": 37,
     "metadata": {},
     "output_type": "execute_result"
    }
   ],
   "source": [
    "x_test"
   ]
  },
  {
   "cell_type": "code",
   "execution_count": 38,
   "id": "cfe690d5",
   "metadata": {},
   "outputs": [
    {
     "data": {
      "text/plain": [
       "896     19798.05455\n",
       "194      1137.46970\n",
       "240     38511.62830\n",
       "1257    11305.93455\n",
       "575     12222.89830\n",
       "           ...     \n",
       "764      9095.06825\n",
       "836      4402.23300\n",
       "1217     4058.11610\n",
       "559      1646.42970\n",
       "685     11244.37690\n",
       "Name: charges, Length: 1069, dtype: float64"
      ]
     },
     "execution_count": 38,
     "metadata": {},
     "output_type": "execute_result"
    }
   ],
   "source": [
    "y_train"
   ]
  },
  {
   "cell_type": "code",
   "execution_count": 39,
   "id": "e735bc2e",
   "metadata": {},
   "outputs": [
    {
     "data": {
      "text/plain": [
       "1248     1633.96180\n",
       "610      8547.69130\n",
       "393      9290.13950\n",
       "503     32548.34050\n",
       "198      9644.25250\n",
       "           ...     \n",
       "809      3309.79260\n",
       "726      6664.68595\n",
       "938      2304.00220\n",
       "474     25382.29700\n",
       "1084    15019.76005\n",
       "Name: charges, Length: 268, dtype: float64"
      ]
     },
     "execution_count": 39,
     "metadata": {},
     "output_type": "execute_result"
    }
   ],
   "source": [
    "y_test"
   ]
  },
  {
   "cell_type": "markdown",
   "id": "bd31b2d4",
   "metadata": {},
   "source": [
    "#### LinearRegression\n"
   ]
  },
  {
   "cell_type": "code",
   "execution_count": 40,
   "id": "b93df03e",
   "metadata": {},
   "outputs": [
    {
     "name": "stdout",
     "output_type": "stream",
     "text": [
      "train r2 0.7487799749798774\n",
      "test r2 0.7526726290709553\n",
      "cross_val_score 0.7471285330088384\n"
     ]
    }
   ],
   "source": [
    "# MODELING\n",
    "from sklearn.linear_model import LinearRegression\n",
    "linear=LinearRegression()\n",
    "linear.fit(x_train,y_train)\n",
    "\n",
    "#PREDICTION\n",
    "ypred_train=linear.predict(x_train)\n",
    "ypred_test=linear.predict(x_test)\n",
    "\n",
    "#EVOLUTION\n",
    "from sklearn.metrics import r2_score\n",
    "print(\"train r2\",linear.score(x_train,y_train))\n",
    "print(\"test r2\",linear.score(x_test,y_test))\n",
    "from sklearn.model_selection import cross_val_score\n",
    "print(\"cross_val_score\",cross_val_score(linear,x,y,cv=5).mean())"
   ]
  },
  {
   "cell_type": "markdown",
   "id": "84abbab3",
   "metadata": {},
   "source": [
    "#### lasso Regression"
   ]
  },
  {
   "cell_type": "code",
   "execution_count": 41,
   "id": "04eb706d",
   "metadata": {},
   "outputs": [
    {
     "name": "stdout",
     "output_type": "stream",
     "text": [
      "train r2 0.7487799741003858\n",
      "test r2 0.7526727805604957\n",
      "cross_val_score 0.7471293257862935\n"
     ]
    }
   ],
   "source": [
    "#modeling\n",
    "from sklearn.linear_model import Lasso\n",
    "lasso=Lasso(alpha=0.1,max_iter=6)\n",
    "lasso.fit(x_train,y_train)\n",
    "\n",
    "#prediction \n",
    "ypred_train=lasso.predict(x_train)\n",
    "ypred_test=lasso.predict(x_test)\n",
    "\n",
    "#evolution \n",
    "from sklearn.metrics import r2_score\n",
    "print(\"train r2\",lasso.score(x_train,y_train))\n",
    "print(\"test r2\",lasso.score(x_test,y_test))\n",
    "from sklearn.model_selection import cross_val_score\n",
    "print(\"cross_val_score\",cross_val_score(lasso,x,y,cv=5).mean())"
   ]
  },
  {
   "cell_type": "markdown",
   "id": "5f314d08",
   "metadata": {},
   "source": [
    "##### hyperparametertuning"
   ]
  },
  {
   "cell_type": "code",
   "execution_count": 42,
   "id": "966d7f07",
   "metadata": {},
   "outputs": [
    {
     "data": {
      "text/plain": [
       "{'alpha': 0.1}"
      ]
     },
     "execution_count": 42,
     "metadata": {},
     "output_type": "execute_result"
    }
   ],
   "source": [
    "from sklearn.model_selection import GridSearchCV\n",
    "estimator=Lasso()\n",
    "param_grid={\"alpha\":[0.1,0.15,0.25,0.5,0.75,0.85,1,10,50,100]}\n",
    "grid=GridSearchCV(estimator,param_grid,scoring=\"neg_mean_squared_error\")\n",
    "grid.fit(x_train,y_train)\n",
    "grid.best_params_"
   ]
  },
  {
   "cell_type": "markdown",
   "id": "7406b302",
   "metadata": {},
   "source": [
    "#### Ridge Regression"
   ]
  },
  {
   "cell_type": "code",
   "execution_count": 43,
   "id": "807b9f49",
   "metadata": {},
   "outputs": [
    {
     "name": "stdout",
     "output_type": "stream",
     "text": [
      "train r2  0.7487797566816379\n",
      "test r2 0.7526636514357836\n",
      "cross_val-score 0.7471293780579389\n"
     ]
    }
   ],
   "source": [
    "# modeling\n",
    "from sklearn.linear_model import Ridge\n",
    "ridge=Ridge(alpha=0.1)\n",
    "ridge.fit(x_train,y_train)\n",
    "\n",
    "# prediction\n",
    "ypred_train=ridge.predict(x_train)\n",
    "ypred_test=ridge.predict(x_test)\n",
    "\n",
    "#evolution\n",
    "\n",
    "from sklearn.metrics import r2_score\n",
    "print(\"train r2 \",ridge.score(x_train,y_train))\n",
    "print(\"test r2\",ridge.score(x_test,y_test))\n",
    "from sklearn.model_selection import cross_val_score \n",
    "print(\"cross_val-score\",cross_val_score(ridge,x,y,cv=5).mean())\n"
   ]
  },
  {
   "cell_type": "code",
   "execution_count": 44,
   "id": "c506ea75",
   "metadata": {},
   "outputs": [
    {
     "data": {
      "text/plain": [
       "{'alpha': 0.1}"
      ]
     },
     "execution_count": 44,
     "metadata": {},
     "output_type": "execute_result"
    }
   ],
   "source": [
    "#hyper parameter tuning\n",
    "from sklearn.model_selection import GridSearchCV\n",
    "estimator=Ridge()\n",
    "param_grid={\"alpha\":[0.1,0.5,0.75,1,10,50,100]}\n",
    "grid=GridSearchCV(estimator,param_grid,scoring=\"neg_mean_squared_error\")\n",
    "grid.fit(x_train,y_train)\n",
    "grid.best_params_"
   ]
  },
  {
   "cell_type": "markdown",
   "id": "f861000f",
   "metadata": {},
   "source": [
    "#### Elastic Regression"
   ]
  },
  {
   "cell_type": "code",
   "execution_count": 45,
   "id": "5a71e60b",
   "metadata": {},
   "outputs": [
    {
     "name": "stdout",
     "output_type": "stream",
     "text": [
      "train r2  0.7487799741003858\n",
      "test r2 0.7526727805604957\n",
      "cross_val_score 0.7471293257862935\n"
     ]
    }
   ],
   "source": [
    "#modeling\n",
    "from sklearn.linear_model import ElasticNet\n",
    "elastic=ElasticNet(alpha=0.1,l1_ratio=1)\n",
    "elastic.fit(x_train,y_train)\n",
    "\n",
    "#prediction\n",
    "ypred_train=elastic.predict(x_train)\n",
    "ypred_train=elastic.predict(x_test)\n",
    "\n",
    "#evolution\n",
    "from sklearn.metrics import r2_score\n",
    "print(\"train r2 \",elastic.score(x_train,y_train))\n",
    "print(\"test r2\",elastic.score(x_test,y_test))\n",
    "from sklearn.model_selection import cross_val_score\n",
    "print(\"cross_val_score\",cross_val_score(elastic,x,y,cv=5).mean())\n"
   ]
  },
  {
   "cell_type": "code",
   "execution_count": 46,
   "id": "c8eaee7a",
   "metadata": {},
   "outputs": [
    {
     "name": "stderr",
     "output_type": "stream",
     "text": [
      "C:\\Users\\LENOVO\\anaconda3\\lib\\site-packages\\sklearn\\linear_model\\_coordinate_descent.py:631: ConvergenceWarning: Objective did not converge. You might want to increase the number of iterations, check the scale of the features or consider increasing regularisation. Duality gap: 3.083e+10, tolerance: 1.220e+07 Linear regression models with null weight for the l1 regularization term are more efficiently fitted using one of the solvers implemented in sklearn.linear_model.Ridge/RidgeCV instead.\n",
      "  model = cd_fast.enet_coordinate_descent(\n",
      "C:\\Users\\LENOVO\\anaconda3\\lib\\site-packages\\sklearn\\linear_model\\_coordinate_descent.py:631: ConvergenceWarning: Objective did not converge. You might want to increase the number of iterations, check the scale of the features or consider increasing regularisation. Duality gap: 3.044e+10, tolerance: 1.263e+07 Linear regression models with null weight for the l1 regularization term are more efficiently fitted using one of the solvers implemented in sklearn.linear_model.Ridge/RidgeCV instead.\n",
      "  model = cd_fast.enet_coordinate_descent(\n",
      "C:\\Users\\LENOVO\\anaconda3\\lib\\site-packages\\sklearn\\linear_model\\_coordinate_descent.py:631: ConvergenceWarning: Objective did not converge. You might want to increase the number of iterations, check the scale of the features or consider increasing regularisation. Duality gap: 2.975e+10, tolerance: 1.175e+07 Linear regression models with null weight for the l1 regularization term are more efficiently fitted using one of the solvers implemented in sklearn.linear_model.Ridge/RidgeCV instead.\n",
      "  model = cd_fast.enet_coordinate_descent(\n",
      "C:\\Users\\LENOVO\\anaconda3\\lib\\site-packages\\sklearn\\linear_model\\_coordinate_descent.py:631: ConvergenceWarning: Objective did not converge. You might want to increase the number of iterations, check the scale of the features or consider increasing regularisation. Duality gap: 3.030e+10, tolerance: 1.214e+07 Linear regression models with null weight for the l1 regularization term are more efficiently fitted using one of the solvers implemented in sklearn.linear_model.Ridge/RidgeCV instead.\n",
      "  model = cd_fast.enet_coordinate_descent(\n",
      "C:\\Users\\LENOVO\\anaconda3\\lib\\site-packages\\sklearn\\linear_model\\_coordinate_descent.py:631: ConvergenceWarning: Objective did not converge. You might want to increase the number of iterations, check the scale of the features or consider increasing regularisation. Duality gap: 2.879e+10, tolerance: 1.153e+07 Linear regression models with null weight for the l1 regularization term are more efficiently fitted using one of the solvers implemented in sklearn.linear_model.Ridge/RidgeCV instead.\n",
      "  model = cd_fast.enet_coordinate_descent(\n",
      "C:\\Users\\LENOVO\\anaconda3\\lib\\site-packages\\sklearn\\linear_model\\_coordinate_descent.py:631: ConvergenceWarning: Objective did not converge. You might want to increase the number of iterations, check the scale of the features or consider increasing regularisation. Duality gap: 4.976e+10, tolerance: 1.220e+07 Linear regression models with null weight for the l1 regularization term are more efficiently fitted using one of the solvers implemented in sklearn.linear_model.Ridge/RidgeCV instead.\n",
      "  model = cd_fast.enet_coordinate_descent(\n",
      "C:\\Users\\LENOVO\\anaconda3\\lib\\site-packages\\sklearn\\linear_model\\_coordinate_descent.py:631: ConvergenceWarning: Objective did not converge. You might want to increase the number of iterations, check the scale of the features or consider increasing regularisation. Duality gap: 5.067e+10, tolerance: 1.263e+07 Linear regression models with null weight for the l1 regularization term are more efficiently fitted using one of the solvers implemented in sklearn.linear_model.Ridge/RidgeCV instead.\n",
      "  model = cd_fast.enet_coordinate_descent(\n",
      "C:\\Users\\LENOVO\\anaconda3\\lib\\site-packages\\sklearn\\linear_model\\_coordinate_descent.py:631: ConvergenceWarning: Objective did not converge. You might want to increase the number of iterations, check the scale of the features or consider increasing regularisation. Duality gap: 4.790e+10, tolerance: 1.175e+07 Linear regression models with null weight for the l1 regularization term are more efficiently fitted using one of the solvers implemented in sklearn.linear_model.Ridge/RidgeCV instead.\n",
      "  model = cd_fast.enet_coordinate_descent(\n",
      "C:\\Users\\LENOVO\\anaconda3\\lib\\site-packages\\sklearn\\linear_model\\_coordinate_descent.py:631: ConvergenceWarning: Objective did not converge. You might want to increase the number of iterations, check the scale of the features or consider increasing regularisation. Duality gap: 4.922e+10, tolerance: 1.214e+07 Linear regression models with null weight for the l1 regularization term are more efficiently fitted using one of the solvers implemented in sklearn.linear_model.Ridge/RidgeCV instead.\n",
      "  model = cd_fast.enet_coordinate_descent(\n",
      "C:\\Users\\LENOVO\\anaconda3\\lib\\site-packages\\sklearn\\linear_model\\_coordinate_descent.py:631: ConvergenceWarning: Objective did not converge. You might want to increase the number of iterations, check the scale of the features or consider increasing regularisation. Duality gap: 4.619e+10, tolerance: 1.153e+07 Linear regression models with null weight for the l1 regularization term are more efficiently fitted using one of the solvers implemented in sklearn.linear_model.Ridge/RidgeCV instead.\n",
      "  model = cd_fast.enet_coordinate_descent(\n",
      "C:\\Users\\LENOVO\\anaconda3\\lib\\site-packages\\sklearn\\linear_model\\_coordinate_descent.py:631: ConvergenceWarning: Objective did not converge. You might want to increase the number of iterations, check the scale of the features or consider increasing regularisation. Duality gap: 5.520e+10, tolerance: 1.220e+07 Linear regression models with null weight for the l1 regularization term are more efficiently fitted using one of the solvers implemented in sklearn.linear_model.Ridge/RidgeCV instead.\n",
      "  model = cd_fast.enet_coordinate_descent(\n",
      "C:\\Users\\LENOVO\\anaconda3\\lib\\site-packages\\sklearn\\linear_model\\_coordinate_descent.py:631: ConvergenceWarning: Objective did not converge. You might want to increase the number of iterations, check the scale of the features or consider increasing regularisation. Duality gap: 5.654e+10, tolerance: 1.263e+07 Linear regression models with null weight for the l1 regularization term are more efficiently fitted using one of the solvers implemented in sklearn.linear_model.Ridge/RidgeCV instead.\n",
      "  model = cd_fast.enet_coordinate_descent(\n",
      "C:\\Users\\LENOVO\\anaconda3\\lib\\site-packages\\sklearn\\linear_model\\_coordinate_descent.py:631: ConvergenceWarning: Objective did not converge. You might want to increase the number of iterations, check the scale of the features or consider increasing regularisation. Duality gap: 5.296e+10, tolerance: 1.175e+07 Linear regression models with null weight for the l1 regularization term are more efficiently fitted using one of the solvers implemented in sklearn.linear_model.Ridge/RidgeCV instead.\n",
      "  model = cd_fast.enet_coordinate_descent(\n",
      "C:\\Users\\LENOVO\\anaconda3\\lib\\site-packages\\sklearn\\linear_model\\_coordinate_descent.py:631: ConvergenceWarning: Objective did not converge. You might want to increase the number of iterations, check the scale of the features or consider increasing regularisation. Duality gap: 5.460e+10, tolerance: 1.214e+07 Linear regression models with null weight for the l1 regularization term are more efficiently fitted using one of the solvers implemented in sklearn.linear_model.Ridge/RidgeCV instead.\n",
      "  model = cd_fast.enet_coordinate_descent(\n",
      "C:\\Users\\LENOVO\\anaconda3\\lib\\site-packages\\sklearn\\linear_model\\_coordinate_descent.py:631: ConvergenceWarning: Objective did not converge. You might want to increase the number of iterations, check the scale of the features or consider increasing regularisation. Duality gap: 5.128e+10, tolerance: 1.153e+07 Linear regression models with null weight for the l1 regularization term are more efficiently fitted using one of the solvers implemented in sklearn.linear_model.Ridge/RidgeCV instead.\n",
      "  model = cd_fast.enet_coordinate_descent(\n",
      "C:\\Users\\LENOVO\\anaconda3\\lib\\site-packages\\sklearn\\linear_model\\_coordinate_descent.py:631: ConvergenceWarning: Objective did not converge. You might want to increase the number of iterations, check the scale of the features or consider increasing regularisation. Duality gap: 5.681e+10, tolerance: 1.220e+07 Linear regression models with null weight for the l1 regularization term are more efficiently fitted using one of the solvers implemented in sklearn.linear_model.Ridge/RidgeCV instead.\n",
      "  model = cd_fast.enet_coordinate_descent(\n",
      "C:\\Users\\LENOVO\\anaconda3\\lib\\site-packages\\sklearn\\linear_model\\_coordinate_descent.py:631: ConvergenceWarning: Objective did not converge. You might want to increase the number of iterations, check the scale of the features or consider increasing regularisation. Duality gap: 5.842e+10, tolerance: 1.263e+07 Linear regression models with null weight for the l1 regularization term are more efficiently fitted using one of the solvers implemented in sklearn.linear_model.Ridge/RidgeCV instead.\n",
      "  model = cd_fast.enet_coordinate_descent(\n",
      "C:\\Users\\LENOVO\\anaconda3\\lib\\site-packages\\sklearn\\linear_model\\_coordinate_descent.py:631: ConvergenceWarning: Objective did not converge. You might want to increase the number of iterations, check the scale of the features or consider increasing regularisation. Duality gap: 5.447e+10, tolerance: 1.175e+07 Linear regression models with null weight for the l1 regularization term are more efficiently fitted using one of the solvers implemented in sklearn.linear_model.Ridge/RidgeCV instead.\n",
      "  model = cd_fast.enet_coordinate_descent(\n",
      "C:\\Users\\LENOVO\\anaconda3\\lib\\site-packages\\sklearn\\linear_model\\_coordinate_descent.py:631: ConvergenceWarning: Objective did not converge. You might want to increase the number of iterations, check the scale of the features or consider increasing regularisation. Duality gap: 5.624e+10, tolerance: 1.214e+07 Linear regression models with null weight for the l1 regularization term are more efficiently fitted using one of the solvers implemented in sklearn.linear_model.Ridge/RidgeCV instead.\n",
      "  model = cd_fast.enet_coordinate_descent(\n",
      "C:\\Users\\LENOVO\\anaconda3\\lib\\site-packages\\sklearn\\linear_model\\_coordinate_descent.py:631: ConvergenceWarning: Objective did not converge. You might want to increase the number of iterations, check the scale of the features or consider increasing regularisation. Duality gap: 5.290e+10, tolerance: 1.153e+07 Linear regression models with null weight for the l1 regularization term are more efficiently fitted using one of the solvers implemented in sklearn.linear_model.Ridge/RidgeCV instead.\n",
      "  model = cd_fast.enet_coordinate_descent(\n"
     ]
    },
    {
     "name": "stderr",
     "output_type": "stream",
     "text": [
      "C:\\Users\\LENOVO\\anaconda3\\lib\\site-packages\\sklearn\\linear_model\\_coordinate_descent.py:631: ConvergenceWarning: Objective did not converge. You might want to increase the number of iterations, check the scale of the features or consider increasing regularisation. Duality gap: 5.765e+10, tolerance: 1.220e+07 Linear regression models with null weight for the l1 regularization term are more efficiently fitted using one of the solvers implemented in sklearn.linear_model.Ridge/RidgeCV instead.\n",
      "  model = cd_fast.enet_coordinate_descent(\n",
      "C:\\Users\\LENOVO\\anaconda3\\lib\\site-packages\\sklearn\\linear_model\\_coordinate_descent.py:631: ConvergenceWarning: Objective did not converge. You might want to increase the number of iterations, check the scale of the features or consider increasing regularisation. Duality gap: 5.939e+10, tolerance: 1.263e+07 Linear regression models with null weight for the l1 regularization term are more efficiently fitted using one of the solvers implemented in sklearn.linear_model.Ridge/RidgeCV instead.\n",
      "  model = cd_fast.enet_coordinate_descent(\n",
      "C:\\Users\\LENOVO\\anaconda3\\lib\\site-packages\\sklearn\\linear_model\\_coordinate_descent.py:631: ConvergenceWarning: Objective did not converge. You might want to increase the number of iterations, check the scale of the features or consider increasing regularisation. Duality gap: 5.529e+10, tolerance: 1.175e+07 Linear regression models with null weight for the l1 regularization term are more efficiently fitted using one of the solvers implemented in sklearn.linear_model.Ridge/RidgeCV instead.\n",
      "  model = cd_fast.enet_coordinate_descent(\n",
      "C:\\Users\\LENOVO\\anaconda3\\lib\\site-packages\\sklearn\\linear_model\\_coordinate_descent.py:631: ConvergenceWarning: Objective did not converge. You might want to increase the number of iterations, check the scale of the features or consider increasing regularisation. Duality gap: 5.711e+10, tolerance: 1.214e+07 Linear regression models with null weight for the l1 regularization term are more efficiently fitted using one of the solvers implemented in sklearn.linear_model.Ridge/RidgeCV instead.\n",
      "  model = cd_fast.enet_coordinate_descent(\n",
      "C:\\Users\\LENOVO\\anaconda3\\lib\\site-packages\\sklearn\\linear_model\\_coordinate_descent.py:631: ConvergenceWarning: Objective did not converge. You might want to increase the number of iterations, check the scale of the features or consider increasing regularisation. Duality gap: 5.380e+10, tolerance: 1.153e+07 Linear regression models with null weight for the l1 regularization term are more efficiently fitted using one of the solvers implemented in sklearn.linear_model.Ridge/RidgeCV instead.\n",
      "  model = cd_fast.enet_coordinate_descent(\n"
     ]
    },
    {
     "data": {
      "text/plain": [
       "{'alpha': 0.1, 'l1_ratio': 1}"
      ]
     },
     "execution_count": 46,
     "metadata": {},
     "output_type": "execute_result"
    }
   ],
   "source": [
    "#hyperparametertuning\n",
    "from sklearn.model_selection import GridSearchCV\n",
    "estimator=ElasticNet()\n",
    "param_grid={\"alpha\":[0.1,1,10,50,100],\"l1_ratio\":[0,0.15,0.3,0.45,0.6,0.75,0.9,1]}\n",
    "grid=GridSearchCV(estimator,param_grid,scoring=\"neg_mean_squared_error\")\n",
    "grid.fit(x_train,y_train)\n",
    "grid.best_params_"
   ]
  },
  {
   "cell_type": "markdown",
   "id": "bfec343a",
   "metadata": {},
   "source": [
    "## final model"
   ]
  },
  {
   "cell_type": "code",
   "execution_count": 47,
   "id": "a9f9e1fe",
   "metadata": {},
   "outputs": [
    {
     "name": "stdout",
     "output_type": "stream",
     "text": [
      "train r2  0.7487797566816379\n",
      "test r2 0.7526636514357836\n",
      "cross_val-score 0.7471293780579389\n"
     ]
    }
   ],
   "source": [
    "# modeling\n",
    "from sklearn.linear_model import Ridge\n",
    "ridge=Ridge(alpha=0.1)\n",
    "ridge.fit(x_train,y_train)\n",
    "\n",
    "# prediction\n",
    "ypred_train=ridge.predict(x_train)\n",
    "ypred_test=ridge.predict(x_test)\n",
    "\n",
    "#evolution\n",
    "\n",
    "from sklearn.metrics import r2_score\n",
    "print(\"train r2 \",ridge.score(x_train,y_train))\n",
    "print(\"test r2\",ridge.score(x_test,y_test))\n",
    "from sklearn.model_selection import cross_val_score \n",
    "print(\"cross_val-score\",cross_val_score(ridge,x,y,cv=5).mean())"
   ]
  },
  {
   "cell_type": "code",
   "execution_count": 48,
   "id": "375eadc9",
   "metadata": {},
   "outputs": [],
   "source": [
    "#random Data\n",
    "d=({\"age\":25,\n",
    "     \"sex\":\"female\",\n",
    "     \"bmi\":32,\n",
    "     \"children\":2,\n",
    "     \"smoker\":\"yes\",\n",
    "     \"region\":\"northwest\"})"
   ]
  },
  {
   "cell_type": "code",
   "execution_count": 49,
   "id": "df23260f",
   "metadata": {},
   "outputs": [],
   "source": [
    "random=pd.DataFrame(d,index=[0])\n",
    "random[\"sex\"].replace({\"female\":0,\"male\":1},inplace=True)\n",
    "random[\"smoker\"].replace({\"no\":0,\"yes\":1},inplace=True)\n",
    "random[\"region\"].replace({\"northeast\":0,\"northwest\":1,\"southeast\":2,\"southwest\":3},inplace=True)"
   ]
  },
  {
   "cell_type": "code",
   "execution_count": 50,
   "id": "02a88701",
   "metadata": {},
   "outputs": [
    {
     "data": {
      "text/plain": [
       "array([29681.52387856])"
      ]
     },
     "execution_count": 50,
     "metadata": {},
     "output_type": "execute_result"
    }
   ],
   "source": [
    "ridge.predict(random)"
   ]
  },
  {
   "cell_type": "code",
   "execution_count": 51,
   "id": "4b1a904f",
   "metadata": {},
   "outputs": [
    {
     "data": {
      "text/plain": [
       "'C:\\\\Users\\\\LENOVO\\\\OneDrive\\\\Desktop\\\\python notes'"
      ]
     },
     "execution_count": 51,
     "metadata": {},
     "output_type": "execute_result"
    }
   ],
   "source": [
    "pwd"
   ]
  },
  {
   "cell_type": "code",
   "execution_count": null,
   "id": "19796d08",
   "metadata": {},
   "outputs": [],
   "source": []
  }
 ],
 "metadata": {
  "kernelspec": {
   "display_name": "Python 3 (ipykernel)",
   "language": "python",
   "name": "python3"
  },
  "language_info": {
   "codemirror_mode": {
    "name": "ipython",
    "version": 3
   },
   "file_extension": ".py",
   "mimetype": "text/x-python",
   "name": "python",
   "nbconvert_exporter": "python",
   "pygments_lexer": "ipython3",
   "version": "3.10.9"
  }
 },
 "nbformat": 4,
 "nbformat_minor": 5
}
